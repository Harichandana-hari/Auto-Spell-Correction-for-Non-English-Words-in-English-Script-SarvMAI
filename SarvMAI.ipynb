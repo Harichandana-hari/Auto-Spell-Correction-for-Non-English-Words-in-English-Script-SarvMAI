{
  "nbformat": 4,
  "nbformat_minor": 0,
  "metadata": {
    "colab": {
      "provenance": []
    },
    "kernelspec": {
      "name": "python3",
      "display_name": "Python 3"
    },
    "language_info": {
      "name": "python"
    }
  },
  "cells": [
    {
      "cell_type": "code",
      "execution_count": 19,
      "metadata": {
        "id": "Jn1IwcuB2t9Z"
      },
      "outputs": [],
      "source": [
        "import re\n",
        "from metaphone import doublemetaphone\n",
        "\n",
        "def load_dictionary(file_path):\n",
        "  dictionary = {}\n",
        "  with open(file_path, 'r') as f:\n",
        "    for line in f:\n",
        "      word = line.strip().lower()\n",
        "      phonetic = doublemetaphone(word)[0]\n",
        "      dictionary[word] = {\n",
        "          \"original\" : line.strip(),\n",
        "          \"phonetic\" : phonetic\n",
        "      }\n",
        "  return dictionary\n",
        "\n",
        "def load_errors(file_path):\n",
        "  errors = []\n",
        "  with open(file_path, 'r') as f:\n",
        "    for line in f:\n",
        "      word = line.strip()\n",
        "      if word:\n",
        "        errors.append(word)\n",
        "  return errors"
      ]
    },
    {
      "cell_type": "code",
      "source": [
        "from fuzzywuzzy import fuzz\n",
        "\n",
        "def get_best_correction(word, dictionary):\n",
        "  word_phonetic = doublemetaphone(word)[0]\n",
        "  best_match = None\n",
        "  highest_score = 0\n",
        "\n",
        "  for ref_word, ref_data in dictionary.items():\n",
        "\n",
        "    phonetic_score = 100 if word_phonetic == ref_data[\"phonetic\"] else 0\n",
        "\n",
        "    edit_score = fuzz.ratio(word, ref_word)\n",
        "\n",
        "    final_score = 0.6 * phonetic_score + 0.4 * edit_score\n",
        "\n",
        "    if final_score > highest_score:\n",
        "      highest_score = final_score\n",
        "      best_match = ref_data[\"original\"]\n",
        "\n",
        "  return best_match\n"
      ],
      "metadata": {
        "id": "L3ZylzKO_IPI"
      },
      "execution_count": 20,
      "outputs": []
    },
    {
      "cell_type": "code",
      "source": [
        "def correct_words(error_words, dictionary):\n",
        "  corrections = []\n",
        "  for word in error_words:\n",
        "    corrected = get_best_correction(word, dictionary)\n",
        "    corrections.append((word, corrected))\n",
        "  return corrections"
      ],
      "metadata": {
        "id": "gXRrT9MXAu5B"
      },
      "execution_count": 21,
      "outputs": []
    },
    {
      "cell_type": "code",
      "source": [
        "def write_output(corrections, output_file = \"corrected_output.txt\"):\n",
        "  with open(output_file, 'w', encoding='utf-8') as f:\n",
        "        f.write(\"File_Error\\tCorrected\\n\")\n",
        "        for error, corrected in corrections:\n",
        "            if corrected:\n",
        "                f.write(f\"{error}\\t{corrected}\\n\")\n",
        "            else:\n",
        "                f.write(f\"{error}\\t<NO MATCH>\\n\")\n",
        "\n",
        "\n",
        "if __name__ == \"__main__\":\n",
        "    reference_dict = load_dictionary('reference.txt')\n",
        "    error_words = load_errors('errors.txt')\n",
        "    corrections = correct_words(error_words, reference_dict)\n",
        "    write_output(corrections)\n",
        "    print(\"✅ Correction completed. Output saved to 'corrected_output.txt'.\")"
      ],
      "metadata": {
        "colab": {
          "base_uri": "https://localhost:8080/"
        },
        "id": "-nRcSUylBTvu",
        "outputId": "74bea90d-5e84-44b0-cf37-b43f247603c2"
      },
      "execution_count": 22,
      "outputs": [
        {
          "output_type": "stream",
          "name": "stdout",
          "text": [
            "✅ Correction completed. Output saved to 'corrected_output.txt'.\n"
          ]
        }
      ]
    }
  ]
}